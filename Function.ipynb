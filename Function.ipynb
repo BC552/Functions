{
 "cells": [
  {
   "cell_type": "code",
   "execution_count": 5,
   "id": "23b8144d",
   "metadata": {},
   "outputs": [
    {
     "name": "stdout",
     "output_type": "stream",
     "text": [
      "yes this is function print method\n"
     ]
    }
   ],
   "source": [
    "def function_name():\n",
    "    print('yes this is function print method')\n",
    "\n",
    "function_name()"
   ]
  },
  {
   "cell_type": "code",
   "execution_count": 7,
   "id": "f9fda2ea",
   "metadata": {},
   "outputs": [
    {
     "name": "stdout",
     "output_type": "stream",
     "text": [
      "Yes this is function return method\n"
     ]
    }
   ],
   "source": [
    "def function_name():\n",
    "    return 'Yes this is function return method'\n",
    "\n",
    "a = function_name()\n",
    "print(a)"
   ]
  },
  {
   "cell_type": "code",
   "execution_count": 15,
   "id": "40db9c05",
   "metadata": {},
   "outputs": [
    {
     "data": {
      "text/plain": [
       "'Vishnu'"
      ]
     },
     "execution_count": 15,
     "metadata": {},
     "output_type": "execute_result"
    }
   ],
   "source": [
    "def function_name(name):\n",
    "    return name\n",
    "\n",
    "\n",
    "function_name('Vishnu')\n"
   ]
  },
  {
   "cell_type": "code",
   "execution_count": 13,
   "id": "687c252a",
   "metadata": {},
   "outputs": [
    {
     "name": "stdout",
     "output_type": "stream",
     "text": [
      "Vishnu\n",
      "<class 'str'>\n"
     ]
    }
   ],
   "source": [
    "def function_name(name):\n",
    "    print(name)\n",
    "    print(type(name))\n",
    "    \n",
    "function_name('Vishnu')"
   ]
  },
  {
   "cell_type": "code",
   "execution_count": 19,
   "id": "7af970a4",
   "metadata": {},
   "outputs": [
    {
     "name": "stdout",
     "output_type": "stream",
     "text": [
      "('Vishnu', 'Prabhakar')\n"
     ]
    }
   ],
   "source": [
    "def function_name(*name):\n",
    "    return name\n",
    "    \n",
    "a = function_name('Vishnu','Prabhakar')\n",
    "print(a)"
   ]
  },
  {
   "cell_type": "code",
   "execution_count": 34,
   "id": "1bba1942",
   "metadata": {},
   "outputs": [
    {
     "data": {
      "text/plain": [
       "('vishnu', '21')"
      ]
     },
     "execution_count": 34,
     "metadata": {},
     "output_type": "execute_result"
    }
   ],
   "source": [
    "def func(**enter):\n",
    "    return enter['name'],enter['age']\n",
    "    \n",
    "    \n",
    "func(name=\"vishnu\",age='21')"
   ]
  },
  {
   "cell_type": "code",
   "execution_count": 41,
   "id": "11c69d2c",
   "metadata": {},
   "outputs": [
    {
     "data": {
      "text/plain": [
       "4000.0"
      ]
     },
     "execution_count": 41,
     "metadata": {},
     "output_type": "execute_result"
    }
   ],
   "source": [
    "def emi_fill(price,tenure=9):\n",
    "    emi = price / tenure\n",
    "    return emi\n",
    "\n",
    "emi_fill(48000,12)"
   ]
  },
  {
   "cell_type": "code",
   "execution_count": 45,
   "id": "d1488eb8",
   "metadata": {},
   "outputs": [
    {
     "name": "stdout",
     "output_type": "stream",
     "text": [
      "outer\n",
      "inner\n"
     ]
    }
   ],
   "source": [
    "def outer():\n",
    "    print('outer')\n",
    "    \n",
    "    def inner():\n",
    "        print('inner')\n",
    "    inner()\n",
    "    \n",
    "outer()"
   ]
  },
  {
   "cell_type": "code",
   "execution_count": 46,
   "id": "fd9d54ef",
   "metadata": {},
   "outputs": [
    {
     "data": {
      "text/plain": [
       "11"
      ]
     },
     "execution_count": 46,
     "metadata": {},
     "output_type": "execute_result"
    }
   ],
   "source": [
    "def add(num1,num2):\n",
    "    add_num = num1 + num2\n",
    "    return add_num\n",
    "\n",
    "add(5,6)"
   ]
  },
  {
   "cell_type": "code",
   "execution_count": 54,
   "id": "ba8491d3",
   "metadata": {},
   "outputs": [
    {
     "name": "stdout",
     "output_type": "stream",
     "text": [
      "\n",
      "Result is [(2, 1), (1, 2), (2, 3), (4, 4), (2, 5)]\n",
      "\n",
      "Result is [(5, 0), (1, 1), (7, 2), (4, 8)]\n",
      "\n",
      "Result is [(6, 4), (3, 9)]\n"
     ]
    }
   ],
   "source": [
    "# tup = [(2, 5), (1, 2), (4, 4), (2, 3), (2, 1)]\n",
    "#Expected Result : [(2, 1), (1, 2), (2, 3), (4, 4), (2, 5)]\n",
    "def list_item(list_value):\n",
    "    lst = len(list_value) \n",
    "    for i in range(lst): \n",
    "\n",
    "        for j in range(lst-i-1): \n",
    "            if (list_value[j][1] > list_value[j + 1][1]): \n",
    "                temp = list_value[j] \n",
    "                list_value[j]= list_value[j + 1] \n",
    "                list_value[j + 1]= temp \n",
    "\n",
    "#         print(list_value)\n",
    "\n",
    "    print('\\nResult is',list_value)\n",
    "    \n",
    "list_item([(2, 5), (1, 2), (4, 4), (2, 3), (2, 1)])\n",
    "list_item([(4,8),(7,2),(5,0),(1,1)])\n",
    "list_item([(3,9),(6,4)])"
   ]
  },
  {
   "cell_type": "code",
   "execution_count": 64,
   "id": "714715f6",
   "metadata": {},
   "outputs": [
    {
     "name": "stdout",
     "output_type": "stream",
     "text": [
      "25\n"
     ]
    }
   ],
   "source": []
  },
  {
   "cell_type": "code",
   "execution_count": 27,
   "id": "7bdf0a07",
   "metadata": {},
   "outputs": [
    {
     "name": "stdout",
     "output_type": "stream",
     "text": [
      "EMI Calculator\n"
     ]
    },
    {
     "ename": "AttributeError",
     "evalue": "module 'emi_calculator' has no attribute 'second_name'",
     "output_type": "error",
     "traceback": [
      "\u001b[1;31m---------------------------------------------------------------------------\u001b[0m",
      "\u001b[1;31mAttributeError\u001b[0m                            Traceback (most recent call last)",
      "\u001b[1;32m<ipython-input-27-f9fb5d663831>\u001b[0m in \u001b[0;36m<module>\u001b[1;34m\u001b[0m\n\u001b[0;32m      2\u001b[0m \u001b[1;33m\u001b[0m\u001b[0m\n\u001b[0;32m      3\u001b[0m \u001b[0mprint\u001b[0m\u001b[1;33m(\u001b[0m\u001b[0memi_calculator\u001b[0m\u001b[1;33m.\u001b[0m\u001b[0mmodule_name\u001b[0m\u001b[1;33m)\u001b[0m\u001b[1;33m\u001b[0m\u001b[0m\n\u001b[1;32m----> 4\u001b[1;33m \u001b[0mprint\u001b[0m\u001b[1;33m(\u001b[0m\u001b[0memi_calculator\u001b[0m\u001b[1;33m.\u001b[0m\u001b[0msecond_name\u001b[0m\u001b[1;33m)\u001b[0m\u001b[1;33m\u001b[0m\u001b[0m\n\u001b[0m\u001b[0;32m      5\u001b[0m \u001b[0mprint\u001b[0m\u001b[1;33m(\u001b[0m\u001b[0memi_calculator\u001b[0m\u001b[1;33m.\u001b[0m\u001b[0mthird_name\u001b[0m\u001b[1;33m)\u001b[0m\u001b[1;33m\u001b[0m\u001b[0m\n\u001b[0;32m      6\u001b[0m \u001b[0mprint\u001b[0m\u001b[1;33m(\u001b[0m\u001b[0memi_calculator\u001b[0m\u001b[1;33m.\u001b[0m\u001b[0memi_fill\u001b[0m\u001b[1;33m(\u001b[0m\u001b[1;36m48000\u001b[0m\u001b[1;33m,\u001b[0m\u001b[1;36m9\u001b[0m\u001b[1;33m)\u001b[0m\u001b[1;33m)\u001b[0m\u001b[1;33m\u001b[0m\u001b[0m\n",
      "\u001b[1;31mAttributeError\u001b[0m: module 'emi_calculator' has no attribute 'second_name'"
     ]
    }
   ],
   "source": [
    "import emi_calculator\n",
    "\n",
    "print(emi_calculator.module_name)\n",
    "print(emi_calculator.second_name)\n",
    "print(emi_calculator.third_name)\n",
    "print(emi_calculator.emi_fill(48000,9))\n"
   ]
  },
  {
   "cell_type": "code",
   "execution_count": 28,
   "id": "2078b7a5",
   "metadata": {},
   "outputs": [
    {
     "data": {
      "text/plain": [
       "5333.333333333333"
      ]
     },
     "execution_count": 28,
     "metadata": {},
     "output_type": "execute_result"
    }
   ],
   "source": [
    "def emi_calc(price,tenure):\n",
    "    emi = price / tenure\n",
    "    return emi\n",
    "\n",
    "emi_calc(48000,9)"
   ]
  },
  {
   "cell_type": "code",
   "execution_count": 43,
   "id": "bea86dae",
   "metadata": {},
   "outputs": [
    {
     "data": {
      "text/plain": [
       "['*', '*', '*', '*', '*']"
      ]
     },
     "execution_count": 43,
     "metadata": {},
     "output_type": "execute_result"
    }
   ],
   "source": [
    "def star_pat(n):\n",
    "    i = 0\n",
    "    m = ['*' for i in range(n)]  #for j in range(n-i)]\n",
    "    \n",
    "    return m\n",
    "\n",
    "star_pat(5)"
   ]
  },
  {
   "cell_type": "code",
   "execution_count": 2,
   "id": "b46ff7b9",
   "metadata": {},
   "outputs": [
    {
     "ename": "NameError",
     "evalue": "name 'a' is not defined",
     "output_type": "error",
     "traceback": [
      "\u001b[1;31m---------------------------------------------------------------------------\u001b[0m",
      "\u001b[1;31mNameError\u001b[0m                                 Traceback (most recent call last)",
      "\u001b[1;32m<ipython-input-2-848af9157ee4>\u001b[0m in \u001b[0;36m<module>\u001b[1;34m\u001b[0m\n\u001b[0;32m      7\u001b[0m         \u001b[0mprint\u001b[0m\u001b[1;33m(\u001b[0m\u001b[1;33m)\u001b[0m\u001b[1;33m\u001b[0m\u001b[0m\n\u001b[0;32m      8\u001b[0m \u001b[1;33m\u001b[0m\u001b[0m\n\u001b[1;32m----> 9\u001b[1;33m \u001b[0mstar_pat\u001b[0m\u001b[1;33m(\u001b[0m\u001b[1;36m5\u001b[0m\u001b[1;33m,\u001b[0m\u001b[1;33m[\u001b[0m\u001b[0ma\u001b[0m\u001b[1;33m,\u001b[0m\u001b[0mb\u001b[0m\u001b[1;33m,\u001b[0m\u001b[0mc\u001b[0m\u001b[1;33m,\u001b[0m\u001b[0md\u001b[0m\u001b[1;33m,\u001b[0m\u001b[0me\u001b[0m\u001b[1;33m]\u001b[0m\u001b[1;33m)\u001b[0m\u001b[1;33m\u001b[0m\u001b[0m\n\u001b[0m",
      "\u001b[1;31mNameError\u001b[0m: name 'a' is not defined"
     ]
    }
   ],
   "source": [
    "def star_pat(*val):\n",
    "    for i in range(n):\n",
    "        for j in range(4-i):\n",
    "            print(' ',end=' ')\n",
    "        for j in range(i+1):\n",
    "            print(m[i],end =' ')\n",
    "        print()\n",
    "        \n",
    "star_pat(5,[a,b,c,d,e])           "
   ]
  },
  {
   "cell_type": "code",
   "execution_count": 20,
   "id": "d20c6e9d",
   "metadata": {},
   "outputs": [
    {
     "name": "stdout",
     "output_type": "stream",
     "text": [
      "['l', 'e', 'n', 'g', 't', 'h']\n"
     ]
    }
   ],
   "source": [
    "a = 'length'\n",
    "print([i for i in a])"
   ]
  },
  {
   "cell_type": "code",
   "execution_count": 1,
   "id": "a64918dc",
   "metadata": {},
   "outputs": [
    {
     "name": "stdout",
     "output_type": "stream",
     "text": [
      "l\n",
      "e\n",
      "n\n",
      "g\n",
      "t\n",
      "h\n"
     ]
    }
   ],
   "source": [
    "list = ['l', 'e', 'n', 'g', 't', 'h']\n",
    "\n",
    "def fun(n):\n",
    "    for i in n:\n",
    "        print(i)\n",
    "        \n",
    "fun(['l', 'e', 'n', 'g', 't', 'h'])"
   ]
  },
  {
   "cell_type": "code",
   "execution_count": null,
   "id": "bc7af8c6",
   "metadata": {},
   "outputs": [],
   "source": []
  },
  {
   "cell_type": "code",
   "execution_count": null,
   "id": "e1f6d282",
   "metadata": {},
   "outputs": [],
   "source": []
  },
  {
   "cell_type": "code",
   "execution_count": null,
   "id": "935c8e1a",
   "metadata": {},
   "outputs": [],
   "source": []
  }
 ],
 "metadata": {
  "kernelspec": {
   "display_name": "Python 3",
   "language": "python",
   "name": "python3"
  },
  "language_info": {
   "codemirror_mode": {
    "name": "ipython",
    "version": 3
   },
   "file_extension": ".py",
   "mimetype": "text/x-python",
   "name": "python",
   "nbconvert_exporter": "python",
   "pygments_lexer": "ipython3",
   "version": "3.6.4"
  }
 },
 "nbformat": 4,
 "nbformat_minor": 5
}
